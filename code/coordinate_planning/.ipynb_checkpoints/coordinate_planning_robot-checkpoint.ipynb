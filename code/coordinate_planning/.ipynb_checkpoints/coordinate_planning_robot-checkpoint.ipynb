{
 "cells": [
  {
   "cell_type": "code",
   "execution_count": 1,
   "metadata": {},
   "outputs": [],
   "source": [
    "import torch\n",
    "import torchvision\n",
    "import cv2\n",
    "import numpy as np\n"
   ]
  },
  {
   "cell_type": "code",
   "execution_count": 2,
   "metadata": {},
   "outputs": [],
   "source": [
    "model = torchvision.models.alexnet(pretrained=False)\n",
    "model.classifier[6] = torch.nn.Linear(model.classifier[6].in_features, 2)\n",
    "\n",
    "model.load_state_dict(torch.load('best_model.pth'))\n",
    "\n",
    "device = torch.device('cuda')\n",
    "model = model.to(device)"
   ]
  },
  {
   "cell_type": "code",
   "execution_count": 6,
   "metadata": {},
   "outputs": [],
   "source": []
  },
  {
   "cell_type": "code",
   "execution_count": 7,
   "metadata": {},
   "outputs": [
    {
     "name": "stdout",
     "output_type": "stream",
     "text": [
      "45.0\n",
      "-45.0\n",
      "135.0\n",
      "-135.0\n"
     ]
    }
   ],
   "source": []
  },
  {
   "cell_type": "code",
   "execution_count": 9,
   "metadata": {},
   "outputs": [
    {
     "name": "stdout",
     "output_type": "stream",
     "text": [
      "3.9998489885977784 3.999848988597778\n",
      "3.9998489885977784 2.000151011402222\n",
      "2.000151011402222 3.9998489885977784\n",
      "2.000151011402222 2.0001510114022216\n"
     ]
    }
   ],
   "source": []
  },
  {
   "cell_type": "code",
   "execution_count": 3,
   "metadata": {},
   "outputs": [],
   "source": [
    "import math\n",
    "from time import sleep\n",
    "dis_threshold = 0.1\n",
    "def convert_angle(delta_x,delta_y):\n",
    "    if(delta_x == 0):      #special case when x = 0 \n",
    "        if(delta_y == 0):          #reach the destination\n",
    "            return None\n",
    "        elif(delta_y > 0):     \n",
    "            return 90\n",
    "        else:\n",
    "            return -90\n",
    "    temp = delta_y / delta_x\n",
    "    \n",
    "    if(delta_x > 0): #in case from -90 to 90 degree\n",
    "        return math.degrees(math.atan(temp))\n",
    "    else:\n",
    "        \n",
    "        if(delta_y > 0):  #case for 90 to 180 degree\n",
    "            return 180 + math.degrees(math.atan(temp))\n",
    "        else:       #case for -180 to -90 degree\n",
    "            return math.degrees(math.atan(temp)) + 180 - 360\n",
    "        \n",
    "        \n",
    "def update_info_straight(curr_x,curr_y,curr_angle, time):    #for keep space\n",
    "    speed = 1       #currently defalut 1, can use calibration to change that\n",
    "    curr_x = curr_x + math.cos(math.radians(curr_angle)) * time * speed\n",
    "    curr_y = curr_y + math.sin(math.radians(curr_angle)) * time * speed\n",
    "\n",
    "    return curr_x,curr_y\n",
    "\n",
    "def reach_destination(curr_x, x, curr_y, y):  \n",
    "    distance_apart = math.sqrt((curr_x - x)**2 + (curr_y - y)**2)       #use to calculate the distance from the destination to current lcoation\n",
    "    \n",
    "    if(distance_apart < dis_threshold): #within a range, then it mean it is close to the destination, then it return true.\n",
    "        return True\n",
    "    else:\n",
    "        return False\n",
    "\n",
    "def turn_left(leftspeed = 0.4, rightspeed = 0.6):    # use for easy control of the car\n",
    "    robot.set_motors(leftspeed, rightspeed)\n",
    "\n",
    "def turn_right(leftspeed = 0.6, rightspeed = 0.4):    \n",
    "    robot.set_motors(leftspeed, rightspeed)\n",
    "\n",
    "def spin_left(speed = 0.5):\n",
    "    robot.left(speed)\n",
    "\n",
    "def spin_right(speed = 0.5):\n",
    "    robot.right(speed)\n",
    "\n",
    "def straight(speed = 1):\n",
    "    robot.forward(speed)\n",
    "\n",
    "def check_angle(angle):     #use to convert the angle to be between -180 to 180 degree\n",
    "    if(angle > 180):\n",
    "        return -180 + angle - 180\n",
    "    elif(angle < -180):\n",
    "        return 180 + angle + 180\n",
    "    else:\n",
    "        return angle"
   ]
  },
  {
   "cell_type": "code",
   "execution_count": 4,
   "metadata": {},
   "outputs": [],
   "source": [
    "mean = 255.0 * np.array([0.485, 0.456, 0.406])\n",
    "stdev = 255.0 * np.array([0.229, 0.224, 0.225])\n",
    "\n",
    "normalize = torchvision.transforms.Normalize(mean, stdev)\n",
    "\n",
    "def preprocess(camera_value):\n",
    "    global device, normalize\n",
    "    x = camera_value\n",
    "    x = cv2.cvtColor(x, cv2.COLOR_BGR2RGB)\n",
    "    x = x.transpose((2, 0, 1))\n",
    "    x = torch.from_numpy(x).float()\n",
    "    x = normalize(x)\n",
    "    x = x.to(device)\n",
    "    x = x[None, ...]\n",
    "    return x"
   ]
  },
  {
   "cell_type": "code",
   "execution_count": 5,
   "metadata": {},
   "outputs": [
    {
     "name": "stderr",
     "output_type": "stream",
     "text": [
      "/usr/local/lib/python3.6/dist-packages/tensorflow/python/framework/dtypes.py:526: FutureWarning: Passing (type, 1) or '1type' as a synonym of type is deprecated; in a future version of numpy, it will be understood as (type, (1,)) / '(1,)type'.\n",
      "  _np_qint8 = np.dtype([(\"qint8\", np.int8, 1)])\n",
      "/usr/local/lib/python3.6/dist-packages/tensorflow/python/framework/dtypes.py:527: FutureWarning: Passing (type, 1) or '1type' as a synonym of type is deprecated; in a future version of numpy, it will be understood as (type, (1,)) / '(1,)type'.\n",
      "  _np_quint8 = np.dtype([(\"quint8\", np.uint8, 1)])\n",
      "/usr/local/lib/python3.6/dist-packages/tensorflow/python/framework/dtypes.py:528: FutureWarning: Passing (type, 1) or '1type' as a synonym of type is deprecated; in a future version of numpy, it will be understood as (type, (1,)) / '(1,)type'.\n",
      "  _np_qint16 = np.dtype([(\"qint16\", np.int16, 1)])\n",
      "/usr/local/lib/python3.6/dist-packages/tensorflow/python/framework/dtypes.py:529: FutureWarning: Passing (type, 1) or '1type' as a synonym of type is deprecated; in a future version of numpy, it will be understood as (type, (1,)) / '(1,)type'.\n",
      "  _np_quint16 = np.dtype([(\"quint16\", np.uint16, 1)])\n",
      "/usr/local/lib/python3.6/dist-packages/tensorflow/python/framework/dtypes.py:530: FutureWarning: Passing (type, 1) or '1type' as a synonym of type is deprecated; in a future version of numpy, it will be understood as (type, (1,)) / '(1,)type'.\n",
      "  _np_qint32 = np.dtype([(\"qint32\", np.int32, 1)])\n",
      "/usr/local/lib/python3.6/dist-packages/tensorflow/python/framework/dtypes.py:535: FutureWarning: Passing (type, 1) or '1type' as a synonym of type is deprecated; in a future version of numpy, it will be understood as (type, (1,)) / '(1,)type'.\n",
      "  np_resource = np.dtype([(\"resource\", np.ubyte, 1)])\n"
     ]
    },
    {
     "data": {
      "application/vnd.jupyter.widget-view+json": {
       "model_id": "c2b57a5df98347119feb72963d323644",
       "version_major": 2,
       "version_minor": 0
      },
      "text/plain": [
       "Image(value=b'\\xff\\xd8\\xff\\xe0\\x00\\x10JFIF\\x00\\x01\\x01\\x00\\x00\\x01\\x00\\x01\\x00\\x00\\xff\\xdb\\x00C\\x00\\x02\\x01\\x0…"
      ]
     },
     "metadata": {},
     "output_type": "display_data"
    },
    {
     "data": {
      "application/vnd.jupyter.widget-view+json": {
       "model_id": "97a16833b6914993a2839416567e0218",
       "version_major": 2,
       "version_minor": 0
      },
      "text/plain": [
       "HBox(children=(Image(value=b'\\xff\\xd8\\xff\\xe0\\x00\\x10JFIF\\x00\\x01\\x01\\x00\\x00\\x01\\x00\\x01\\x00\\x00\\xff\\xdb\\x00C…"
      ]
     },
     "metadata": {},
     "output_type": "display_data"
    }
   ],
   "source": [
    "import traitlets\n",
    "from IPython.display import display\n",
    "import ipywidgets.widgets as widgets\n",
    "from jetbot import Camera, bgr8_to_jpeg\n",
    "\n",
    "camera = Camera.instance(width=224, height=224)\n",
    "image = widgets.Image(format='jpeg', width=224, height=224)\n",
    "blocked_slider = widgets.FloatSlider(description='blocked', min=0.0, max=1.0, orientation='vertical')\n",
    "\n",
    "camera_link = traitlets.dlink((camera, 'value'), (image, 'value'), transform=bgr8_to_jpeg)\n",
    "display(image)\n",
    "display(widgets.HBox([image, blocked_slider]))"
   ]
  },
  {
   "cell_type": "code",
   "execution_count": 1,
   "metadata": {},
   "outputs": [
    {
     "name": "stderr",
     "output_type": "stream",
     "text": [
      "/usr/local/lib/python3.6/dist-packages/tensorflow/python/framework/dtypes.py:526: FutureWarning: Passing (type, 1) or '1type' as a synonym of type is deprecated; in a future version of numpy, it will be understood as (type, (1,)) / '(1,)type'.\n",
      "  _np_qint8 = np.dtype([(\"qint8\", np.int8, 1)])\n",
      "/usr/local/lib/python3.6/dist-packages/tensorflow/python/framework/dtypes.py:527: FutureWarning: Passing (type, 1) or '1type' as a synonym of type is deprecated; in a future version of numpy, it will be understood as (type, (1,)) / '(1,)type'.\n",
      "  _np_quint8 = np.dtype([(\"quint8\", np.uint8, 1)])\n",
      "/usr/local/lib/python3.6/dist-packages/tensorflow/python/framework/dtypes.py:528: FutureWarning: Passing (type, 1) or '1type' as a synonym of type is deprecated; in a future version of numpy, it will be understood as (type, (1,)) / '(1,)type'.\n",
      "  _np_qint16 = np.dtype([(\"qint16\", np.int16, 1)])\n",
      "/usr/local/lib/python3.6/dist-packages/tensorflow/python/framework/dtypes.py:529: FutureWarning: Passing (type, 1) or '1type' as a synonym of type is deprecated; in a future version of numpy, it will be understood as (type, (1,)) / '(1,)type'.\n",
      "  _np_quint16 = np.dtype([(\"quint16\", np.uint16, 1)])\n",
      "/usr/local/lib/python3.6/dist-packages/tensorflow/python/framework/dtypes.py:530: FutureWarning: Passing (type, 1) or '1type' as a synonym of type is deprecated; in a future version of numpy, it will be understood as (type, (1,)) / '(1,)type'.\n",
      "  _np_qint32 = np.dtype([(\"qint32\", np.int32, 1)])\n",
      "/usr/local/lib/python3.6/dist-packages/tensorflow/python/framework/dtypes.py:535: FutureWarning: Passing (type, 1) or '1type' as a synonym of type is deprecated; in a future version of numpy, it will be understood as (type, (1,)) / '(1,)type'.\n",
      "  np_resource = np.dtype([(\"resource\", np.ubyte, 1)])\n"
     ]
    }
   ],
   "source": [
    "from jetbot import Robot\n",
    "\n",
    "robot = Robot()\n",
    "robot.stop()\n",
    "\n",
    "curr_x = 0          #use to keep track on the x of the car current status\n",
    "curr_y = 0          #use to keep track on the y of the car current status\n",
    "curr_angle = 0      #use to keep track on the angle of the car current status, range from -180 to 180. 0 indicate straight\n",
    "des_x = 1\n",
    "des_y = 1\n",
    "spin_around_time = 0.5"
   ]
  },
  {
   "cell_type": "code",
   "execution_count": 12,
   "metadata": {},
   "outputs": [
    {
     "ename": "ModuleNotFoundError",
     "evalue": "No module named 'torch'",
     "output_type": "error",
     "traceback": [
      "\u001b[0;31m---------------------------------------------------------------------------\u001b[0m",
      "\u001b[0;31mModuleNotFoundError\u001b[0m                       Traceback (most recent call last)",
      "\u001b[0;32m<ipython-input-12-919884622a46>\u001b[0m in \u001b[0;36m<module>\u001b[0;34m\u001b[0m\n\u001b[0;32m----> 1\u001b[0;31m \u001b[0;32mimport\u001b[0m \u001b[0mtorch\u001b[0m\u001b[0;34m.\u001b[0m\u001b[0mnn\u001b[0m\u001b[0;34m.\u001b[0m\u001b[0mfunctional\u001b[0m \u001b[0;32mas\u001b[0m \u001b[0mF\u001b[0m\u001b[0;34m\u001b[0m\u001b[0;34m\u001b[0m\u001b[0m\n\u001b[0m\u001b[1;32m      2\u001b[0m \u001b[0;32mimport\u001b[0m \u001b[0mtime\u001b[0m\u001b[0;34m\u001b[0m\u001b[0;34m\u001b[0m\u001b[0m\n\u001b[1;32m      3\u001b[0m \u001b[0;34m\u001b[0m\u001b[0m\n\u001b[1;32m      4\u001b[0m \u001b[0;34m\u001b[0m\u001b[0m\n\u001b[1;32m      5\u001b[0m \u001b[0;34m\u001b[0m\u001b[0m\n",
      "\u001b[0;31mModuleNotFoundError\u001b[0m: No module named 'torch'"
     ]
    }
   ],
   "source": [
    "import torch.nn.functional as F\n",
    "import time\n",
    "import random\n",
    "\n",
    "\n",
    "no_obj_go_time = 0.001\n",
    "obj_spin_time_max = 0.1\n",
    "obj_go_time = 0.5\n",
    "go_forward_ct = 0\n",
    "go_forward_before_redirect_max = 200 # #* 0.001s\n",
    "\n",
    "def update(change):\n",
    "    global blocked_slider, robot, curr_x, curr_y, curr_angle \n",
    "    global des_x, des_y, spin_time\n",
    "    global go_forward_ct\n",
    "    \n",
    "    if not des_x or not des_y:\n",
    "        print(\"hahaha\")\n",
    "    \n",
    "    if reach_destination(curr_x, des_x, curr_y, des_y):\n",
    "        #camera.unobserve(update, names='value')\n",
    "        print(\"stop\")\n",
    "        robot.stop()\n",
    "    x = change['new'] \n",
    "    x = preprocess(x)\n",
    "    y = model(x)\n",
    "    print(\"current location\", curr_x, curr_y, curr_angle )\n",
    "    # we apply the `softmax` function to normalize the output vector so it sums to 1 (which makes it a probability distribution)\n",
    "    y = F.softmax(y, dim=1)\n",
    "    \n",
    "    prob_blocked = float(y.flatten()[0])\n",
    "    \n",
    "    blocked_slider.value = prob_blocked\n",
    "    \n",
    "    if prob_blocked < 0.5: #if no object\n",
    "        target_angle = convert_angle(des_x - curr_x, des_y - curr_y)\n",
    "        angle_diff = target_angle - curr_angle \n",
    "        \n",
    "        if go_forward_ct > random.randint(6,9) * 0.1 * go_forward_before_redirect_max and abs(angle_diff) > 2: \n",
    "            go_forward_ct = 0\n",
    "                #not pointing at the correct angle\n",
    "                #adjust to the left while going straight if angle is negative and right if angle is positive\n",
    "            #straight()\n",
    "            #...\n",
    "            if angle_diff < 0: # target < current\n",
    "                spin_right()\n",
    "            else:\n",
    "                spin_left()\n",
    "\n",
    "            time_to_turn = spin_around_time * abs(angle_diff) / 360     #calculate how long does the spin need to be\n",
    "\n",
    "            sleep(time_to_turn)     #sleep to wait until the car turn enough\n",
    "            curr_angle = target_angle    #x and y did not change, only the angle change to the target value in this case.\n",
    "        else:\n",
    "            #go straight \n",
    "            go_forward_ct += 1\n",
    "            straight()\n",
    "            sleep(no_obj_go_time)\n",
    "            curr_x, curr_y = update_info_straight(curr_x,curr_y,curr_angle, no_obj_go_time)   \n",
    "\n",
    "            \n",
    "    else:\n",
    "        go_forward_ct = 0\n",
    "        spin_left()\n",
    "        #obj_spin_time = random.randint(1,9) * 0.1 * obj_spin_time_max\n",
    "        obj_spin_time = 0.001\n",
    "        sleep(obj_spin_time)\n",
    "        curr_angle = check_angle(curr_angle + (360 * obj_spin_time / spin_around_time) )  #make sure the angle is between -180 to 180 degree\n",
    "        #straight()\n",
    "        #sleep(obj_go_time)\n",
    "        #curr_x, curr_y = update_info_straight(curr_x, curr_y,curr_angle,obj_go_time)\n",
    "        \n",
    "    # time.sleep(0.001)\n",
    "        \n",
    "update({'new': camera.value})  # we call the function once to intialize"
   ]
  },
  {
   "cell_type": "code",
   "execution_count": 8,
   "metadata": {},
   "outputs": [
    {
     "name": "stdout",
     "output_type": "stream",
     "text": [
      "current location 0 0\n",
      "current location 0 0\n",
      "current location 0 0\n",
      "current location 0 0\n",
      "current location 0 0\n",
      "current location 0 0\n",
      "current location 0 0\n",
      "current location 0 0\n",
      "current location 0 0\n",
      "current location 0 0\n",
      "current location 0 0\n",
      "current location 0 0\n",
      "current location 0 0\n",
      "current location 0 0\n",
      "current location 0 0\n",
      "current location 0 0\n",
      "current location 0 0\n",
      "current location 0 0\n",
      "current location 0 0\n",
      "current location 0 0\n",
      "current location 0 0\n",
      "current location 0 0\n",
      "current location 0 0\n",
      "current location 0 0\n",
      "current location 0 0\n",
      "current location 0 0\n",
      "current location 0 0\n",
      "current location 0 0\n",
      "current location 0 0\n",
      "current location 0 0\n",
      "current location 0 0\n",
      "current location 0 0\n",
      "current location 0 0\n",
      "current location 0 0\n",
      "current location 0 0\n",
      "current location 0 0\n",
      "current location 0 0\n",
      "current location 0 0\n",
      "current location 0 0\n",
      "current location 0 0\n",
      "current location 0 0\n",
      "current location 0 0\n",
      "current location 0 0\n",
      "current location 0 0\n",
      "current location 0 0\n",
      "current location 0 0\n",
      "current location 0 0\n",
      "current location 0 0\n",
      "current location 0 0\n",
      "current location 0 0\n",
      "current location 0 0\n",
      "current location 0 0\n",
      "current location 0 0\n",
      "current location 0 0\n",
      "current location 0 0\n",
      "current location 0 0\n",
      "current location 0 0\n",
      "current location 0 0\n",
      "current location 0 0\n",
      "current location 0 0\n",
      "current location 0 0\n",
      "current location 0 0\n",
      "current location 0 0\n",
      "current location 0 0\n",
      "current location 0 0\n",
      "current location 0 0\n",
      "current location 0 0\n",
      "current location 0 0\n",
      "current location 0 0\n",
      "current location 0 0\n",
      "current location 0 0\n",
      "current location 0 0\n",
      "current location 0 0\n",
      "current location 0 0\n",
      "current location 0 0\n",
      "current location 0 0\n",
      "current location 0 0\n",
      "current location 0 0\n",
      "current location 0 0\n",
      "current location 0 0\n",
      "current location 0 0\n",
      "current location 0 0\n",
      "current location 0 0\n",
      "current location 0 0\n",
      "current location 0 0\n",
      "current location 0 0\n",
      "current location 0 0\n",
      "current location 0 0\n",
      "current location 0 0\n",
      "current location 0 0\n",
      "current location 0 0\n",
      "current location 0 0\n",
      "current location 0 0\n",
      "current location 0 0\n",
      "current location 0 0\n",
      "current location 0 0\n",
      "current location 0 0\n",
      "current location 0 0\n",
      "current location 0 0\n",
      "current location 0 0\n",
      "current location 0 0\n",
      "current location 0 0\n",
      "current location 0 0\n",
      "current location 0 0\n",
      "current location 0 0\n",
      "current location 0 0\n",
      "current location 0 0\n",
      "current location 0 0\n",
      "current location 0 0\n",
      "current location 0 0\n",
      "current location 0 0\n"
     ]
    }
   ],
   "source": [
    "camera.observe(update, names='value')  # this attaches the 'update' function to the 'value' traitlet of our camera"
   ]
  },
  {
   "cell_type": "code",
   "execution_count": 10,
   "metadata": {},
   "outputs": [
    {
     "ename": "ValueError",
     "evalue": "list.remove(x): x not in list",
     "output_type": "error",
     "traceback": [
      "\u001b[0;31m---------------------------------------------------------------------------\u001b[0m",
      "\u001b[0;31mValueError\u001b[0m                                Traceback (most recent call last)",
      "\u001b[0;32m<ipython-input-10-c1caefe4472a>\u001b[0m in \u001b[0;36m<module>\u001b[0;34m\u001b[0m\n\u001b[0;32m----> 1\u001b[0;31m \u001b[0mcamera\u001b[0m\u001b[0;34m.\u001b[0m\u001b[0munobserve\u001b[0m\u001b[0;34m(\u001b[0m\u001b[0mupdate\u001b[0m\u001b[0;34m,\u001b[0m \u001b[0mnames\u001b[0m\u001b[0;34m=\u001b[0m\u001b[0;34m'value'\u001b[0m\u001b[0;34m)\u001b[0m\u001b[0;34m\u001b[0m\u001b[0;34m\u001b[0m\u001b[0m\n\u001b[0m\u001b[1;32m      2\u001b[0m \u001b[0mrobot\u001b[0m\u001b[0;34m.\u001b[0m\u001b[0mstop\u001b[0m\u001b[0;34m(\u001b[0m\u001b[0;34m)\u001b[0m\u001b[0;34m\u001b[0m\u001b[0;34m\u001b[0m\u001b[0m\n",
      "\u001b[0;32m/usr/local/lib/python3.6/dist-packages/traitlets/traitlets.py\u001b[0m in \u001b[0;36munobserve\u001b[0;34m(self, handler, names, type)\u001b[0m\n\u001b[1;32m   1359\u001b[0m         \u001b[0mnames\u001b[0m \u001b[0;34m=\u001b[0m \u001b[0mparse_notifier_name\u001b[0m\u001b[0;34m(\u001b[0m\u001b[0mnames\u001b[0m\u001b[0;34m)\u001b[0m\u001b[0;34m\u001b[0m\u001b[0;34m\u001b[0m\u001b[0m\n\u001b[1;32m   1360\u001b[0m         \u001b[0;32mfor\u001b[0m \u001b[0mn\u001b[0m \u001b[0;32min\u001b[0m \u001b[0mnames\u001b[0m\u001b[0;34m:\u001b[0m\u001b[0;34m\u001b[0m\u001b[0;34m\u001b[0m\u001b[0m\n\u001b[0;32m-> 1361\u001b[0;31m             \u001b[0mself\u001b[0m\u001b[0;34m.\u001b[0m\u001b[0m_remove_notifiers\u001b[0m\u001b[0;34m(\u001b[0m\u001b[0mhandler\u001b[0m\u001b[0;34m,\u001b[0m \u001b[0mn\u001b[0m\u001b[0;34m,\u001b[0m \u001b[0mtype\u001b[0m\u001b[0;34m)\u001b[0m\u001b[0;34m\u001b[0m\u001b[0;34m\u001b[0m\u001b[0m\n\u001b[0m\u001b[1;32m   1362\u001b[0m \u001b[0;34m\u001b[0m\u001b[0m\n\u001b[1;32m   1363\u001b[0m     \u001b[0;32mdef\u001b[0m \u001b[0munobserve_all\u001b[0m\u001b[0;34m(\u001b[0m\u001b[0mself\u001b[0m\u001b[0;34m,\u001b[0m \u001b[0mname\u001b[0m\u001b[0;34m=\u001b[0m\u001b[0mAll\u001b[0m\u001b[0;34m)\u001b[0m\u001b[0;34m:\u001b[0m\u001b[0;34m\u001b[0m\u001b[0;34m\u001b[0m\u001b[0m\n",
      "\u001b[0;32m/usr/local/lib/python3.6/dist-packages/traitlets/traitlets.py\u001b[0m in \u001b[0;36m_remove_notifiers\u001b[0;34m(self, handler, name, type)\u001b[0m\n\u001b[1;32m   1269\u001b[0m                 \u001b[0;32mdel\u001b[0m \u001b[0mself\u001b[0m\u001b[0;34m.\u001b[0m\u001b[0m_trait_notifiers\u001b[0m\u001b[0;34m[\u001b[0m\u001b[0mname\u001b[0m\u001b[0;34m]\u001b[0m\u001b[0;34m[\u001b[0m\u001b[0mtype\u001b[0m\u001b[0;34m]\u001b[0m\u001b[0;34m\u001b[0m\u001b[0;34m\u001b[0m\u001b[0m\n\u001b[1;32m   1270\u001b[0m             \u001b[0;32melse\u001b[0m\u001b[0;34m:\u001b[0m\u001b[0;34m\u001b[0m\u001b[0;34m\u001b[0m\u001b[0m\n\u001b[0;32m-> 1271\u001b[0;31m                 \u001b[0mself\u001b[0m\u001b[0;34m.\u001b[0m\u001b[0m_trait_notifiers\u001b[0m\u001b[0;34m[\u001b[0m\u001b[0mname\u001b[0m\u001b[0;34m]\u001b[0m\u001b[0;34m[\u001b[0m\u001b[0mtype\u001b[0m\u001b[0;34m]\u001b[0m\u001b[0;34m.\u001b[0m\u001b[0mremove\u001b[0m\u001b[0;34m(\u001b[0m\u001b[0mhandler\u001b[0m\u001b[0;34m)\u001b[0m\u001b[0;34m\u001b[0m\u001b[0;34m\u001b[0m\u001b[0m\n\u001b[0m\u001b[1;32m   1272\u001b[0m         \u001b[0;32mexcept\u001b[0m \u001b[0mKeyError\u001b[0m\u001b[0;34m:\u001b[0m\u001b[0;34m\u001b[0m\u001b[0;34m\u001b[0m\u001b[0m\n\u001b[1;32m   1273\u001b[0m             \u001b[0;32mpass\u001b[0m\u001b[0;34m\u001b[0m\u001b[0;34m\u001b[0m\u001b[0m\n",
      "\u001b[0;31mValueError\u001b[0m: list.remove(x): x not in list"
     ]
    }
   ],
   "source": [
    "camera.unobserve(update, names='value')\n",
    "robot.stop()"
   ]
  },
  {
   "cell_type": "code",
   "execution_count": null,
   "metadata": {},
   "outputs": [],
   "source": [
    "robot.stop()"
   ]
  },
  {
   "cell_type": "code",
   "execution_count": 5,
   "metadata": {},
   "outputs": [],
   "source": [
    "def funcc(x, y):\n",
    "    x = x + 1\n",
    "    y = y + 1\n",
    "    return x,y"
   ]
  },
  {
   "cell_type": "code",
   "execution_count": 6,
   "metadata": {},
   "outputs": [],
   "source": [
    "a = 1\n",
    "b = 1\n",
    "a, b = funcc(a, b)"
   ]
  },
  {
   "cell_type": "code",
   "execution_count": 7,
   "metadata": {},
   "outputs": [
    {
     "name": "stdout",
     "output_type": "stream",
     "text": [
      "2\n"
     ]
    }
   ],
   "source": [
    "print(a)"
   ]
  },
  {
   "cell_type": "code",
   "execution_count": 10,
   "metadata": {},
   "outputs": [
    {
     "name": "stdout",
     "output_type": "stream",
     "text": [
      "45.0\n",
      "-45.0\n",
      "135.0\n",
      "-135.0\n"
     ]
    }
   ],
   "source": [
    "import math\n",
    "from time import sleep\n",
    "def convert_angle(delta_x,delta_y):\n",
    "    if(delta_x == 0):      #special case when x = 0 \n",
    "        if(delta_y == 0):          #reach the destination\n",
    "            return None\n",
    "        elif(delta_y > 0):     \n",
    "            return 90\n",
    "        else:\n",
    "            return -90\n",
    "    temp = delta_y / delta_x\n",
    "    \n",
    "    if(delta_x > 0): #in case from -90 to 90 degree\n",
    "        return math.degrees(math.atan(temp))\n",
    "    else:\n",
    "        \n",
    "        if(delta_y > 0):  #case for 90 to 180 degree\n",
    "            return 180 + math.degrees(math.atan(temp))\n",
    "        else:       #case for -180 to -90 degree\n",
    "            return math.degrees(math.atan(temp)) + 180 - 360\n",
    "        \n",
    "print(convert_angle(3 , 3))\n",
    "print(convert_angle(3 , -3))\n",
    "print(convert_angle(-3 , 3))\n",
    "print(convert_angle(-3 , -3))"
   ]
  },
  {
   "cell_type": "code",
   "execution_count": 11,
   "metadata": {},
   "outputs": [
    {
     "name": "stdout",
     "output_type": "stream",
     "text": [
      "3.9998489885977784 3.999848988597778\n",
      "3.9998489885977784 2.000151011402222\n",
      "2.000151011402222 3.9998489885977784\n",
      "2.000151011402222 2.0001510114022216\n"
     ]
    }
   ],
   "source": [
    "def update_info_straight(curr_x,curr_y,curr_angle, time):    #for keep space\n",
    "    speed = 1       #currently defalut 1, can use calibration to change that\n",
    "    curr_x = curr_x + math.cos(math.radians(curr_angle)) * time * speed\n",
    "    curr_y = curr_y + math.sin(math.radians(curr_angle)) * time * speed\n",
    "\n",
    "    return curr_x,curr_y\n",
    "\n",
    "x, y = update_info_straight(3, 3, 45, 1.414)\n",
    "print(x, y)\n",
    "x, y = update_info_straight(3, 3, -45, 1.414)\n",
    "print(x, y)\n",
    "x, y = update_info_straight(3, 3, 135, 1.414)\n",
    "print(x, y)\n",
    "x, y = update_info_straight(3, 3, -135, 1.414)\n",
    "print(x, y)"
   ]
  },
  {
   "cell_type": "code",
   "execution_count": null,
   "metadata": {},
   "outputs": [],
   "source": []
  }
 ],
 "metadata": {
  "kernelspec": {
   "display_name": "Python 3",
   "language": "python",
   "name": "python3"
  },
  "language_info": {
   "codemirror_mode": {
    "name": "ipython",
    "version": 3
   },
   "file_extension": ".py",
   "mimetype": "text/x-python",
   "name": "python",
   "nbconvert_exporter": "python",
   "pygments_lexer": "ipython3",
   "version": "3.7.3"
  }
 },
 "nbformat": 4,
 "nbformat_minor": 4
}
