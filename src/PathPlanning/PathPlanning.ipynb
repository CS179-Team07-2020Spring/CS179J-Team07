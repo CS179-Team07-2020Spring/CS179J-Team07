{
 "cells": [
  {
   "cell_type": "code",
   "execution_count": 1,
   "metadata": {},
   "outputs": [],
   "source": [
    "from pathPlanningHelper import *"
   ]
  },
  {
   "cell_type": "code",
   "execution_count": 2,
   "metadata": {},
   "outputs": [
    {
     "data": {
      "image/png": "[encoded data removed]",
      "text/plain": [
       "<Figure size 432x288 with 2 Axes>"
      ]
     },
     "metadata": {
      "needs_background": "light"
     },
     "output_type": "display_data"
    },
    {
     "data": {
      "text/plain": [
       "<Figure size 432x288 with 0 Axes>"
      ]
     },
     "metadata": {},
     "output_type": "display_data"
    },
    {
     "data": {
      "text/plain": [
       "<Figure size 432x288 with 0 Axes>"
      ]
     },
     "metadata": {},
     "output_type": "display_data"
    }
   ],
   "source": [
    "Map = [[0 for i in range(20)] for j in range(20)] \n",
    "Map[0][5] = 1\n",
    "Map[0][4] = 1\n",
    "Map[0][3] = 1\n",
    "Map[0][2] = 1\n",
    "\n",
    "Map[1][5] = 1\n",
    "Map[1][4] = 1\n",
    "Map[1][3] = 1\n",
    "Map[1][2] = 1\n",
    "Map[1][1] = 1\n",
    "\n",
    "Map[2][1] = 1\n",
    "Map[2][2] = 1\n",
    "Map[2][3] = 1\n",
    "Map[2][4] = 1\n",
    "\n",
    "Map[3][1] = 1\n",
    "Map[3][2] = 1\n",
    "Map[3][3] = 1\n",
    "Map[3][4] = 1\n",
    "\n",
    "Map[4][1] = 1\n",
    "Map[4][2] = 1\n",
    "Map[4][3] = 1\n",
    "Map[4][4] = 1\n",
    "\n",
    "\n",
    "\n",
    "Map[14][14] = 1\n",
    "\n",
    "Map[15][14] = 1\n",
    "\n",
    "Map[16][14] = 1\n",
    "\n",
    "Map[17][14] = 1\n",
    "\n",
    "Map[18][14] = 1\n",
    "\n",
    "\n",
    "Map[19][10] = 1\n",
    "Map[19][11] = 1\n",
    "Map[19][12] = 1\n",
    "Map[19][13] = 1\n",
    "Map[19][14] = 1\n",
    "img = plt.imshow(Map,vmin=0, vmax=4)\n",
    "\n",
    "plt.colorbar(img)\n",
    "plt.show()\n",
    "display.display(plt.gcf())"
   ]
  },
  {
   "cell_type": "code",
   "execution_count": 3,
   "metadata": {},
   "outputs": [
    {
     "data": {
      "image/png": "[encoded data removed]",
      "text/plain": [
       "<Figure size 432x288 with 2 Axes>"
      ]
     },
     "metadata": {
      "needs_background": "light"
     },
     "output_type": "display_data"
    },
    {
     "data": {
      "text/plain": [
       "<Figure size 432x288 with 0 Axes>"
      ]
     },
     "metadata": {},
     "output_type": "display_data"
    },
    {
     "data": {
      "text/plain": [
       "<Figure size 432x288 with 0 Axes>"
      ]
     },
     "metadata": {},
     "output_type": "display_data"
    }
   ],
   "source": [
    "size_map = (20,20)\n",
    "initLoc = (0,0)\n",
    "endLoc = (19,19)\n",
    "(a,b) = pathPlanning(Map,size_map,initLoc,endLoc)"
   ]
  },
  {
   "cell_type": "code",
   "execution_count": 299,
   "metadata": {},
   "outputs": [
    {
     "data": {
      "image/png": "[encoded data removed]",
      "text/plain": [
       "<Figure size 432x288 with 2 Axes>"
      ]
     },
     "metadata": {
      "needs_background": "light"
     },
     "output_type": "display_data"
    },
    {
     "data": {
      "text/plain": [
       "<Figure size 432x288 with 0 Axes>"
      ]
     },
     "metadata": {},
     "output_type": "display_data"
    },
    {
     "data": {
      "text/plain": [
       "<Figure size 432x288 with 0 Axes>"
      ]
     },
     "metadata": {},
     "output_type": "display_data"
    }
   ],
   "source": [
    "Map = [[0 for i in range(10)] for j in range(10)] \n",
    "\n",
    "Map[0][5] = 1\n",
    "Map[1][5] = 1\n",
    "Map[2][5] = 1\n",
    "Map[3][5] = 1\n",
    "Map[4][5] = 1\n",
    "\n",
    "Map[5][0] = 1\n",
    "Map[5][1] = 1\n",
    "Map[5][2] = 1\n",
    "Map[5][3] = 1\n",
    "Map[5][4] = 1\n",
    "Map[5][5] = 1\n",
    "\n",
    "\n",
    "\n",
    "\n",
    "\n",
    "img = plt.imshow(Map,vmin=0, vmax=4)\n",
    "plt.colorbar(img)\n",
    "plt.show()\n",
    "display.display(plt.gcf())"
   ]
  },
  {
   "cell_type": "code",
   "execution_count": 300,
   "metadata": {
    "scrolled": true
   },
   "outputs": [
    {
     "name": "stdout",
     "output_type": "stream",
     "text": [
      "no path to destination\n"
     ]
    },
    {
     "data": {
      "image/png": "[encoded data removed]",
      "text/plain": [
       "<Figure size 432x288 with 2 Axes>"
      ]
     },
     "metadata": {
      "needs_background": "light"
     },
     "output_type": "display_data"
    },
    {
     "data": {
      "text/plain": [
       "<Figure size 432x288 with 0 Axes>"
      ]
     },
     "metadata": {},
     "output_type": "display_data"
    },
    {
     "data": {
      "text/plain": [
       "<Figure size 432x288 with 0 Axes>"
      ]
     },
     "metadata": {},
     "output_type": "display_data"
    }
   ],
   "source": [
    "size_map = (20,20)\n",
    "initLoc = (0,0)\n",
    "endLoc = (9,9)\n",
    "(a,b) = pathPlanning(Map,size_map,initLoc,endLoc)\n",
    "\n",
    "img = plt.imshow(b, vmin=0, vmax=4)\n",
    "\n",
    "plt.colorbar(img)\n",
    "plt.show()\n",
    "display.display(plt.gcf())"
   ]
  }
 ],
 "metadata": {
  "kernelspec": {
   "display_name": "Python 3",
   "language": "python",
   "name": "python3"
  },
  "language_info": {
   "codemirror_mode": {
    "name": "ipython",
    "version": 3
   },
   "file_extension": ".py",
   "mimetype": "text/x-python",
   "name": "python",
   "nbconvert_exporter": "python",
   "pygments_lexer": "ipython3",
   "version": "3.7.1"
  }
 },
 "nbformat": 4,
 "nbformat_minor": 2
}
