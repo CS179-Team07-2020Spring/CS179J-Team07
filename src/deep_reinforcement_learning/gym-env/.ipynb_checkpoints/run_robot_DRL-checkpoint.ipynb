{
 "cells": [
  {
   "cell_type": "code",
   "execution_count": null,
   "metadata": {},
   "outputs": [],
   "source": [
    "import traitlets\n",
    "from IPython.display import display\n",
    "import ipywidgets.widgets as widgets\n",
    "from jetbot import Camera, bgr8_to_jpeg\n",
    "\n",
    "camera = Camera.instance(width=224, height=224)\n",
    "image = widgets.Image(format='jpeg', width=224, height=224)\n",
    "blocked_slider = widgets.FloatSlider(description='blocked', min=0.0, max=1.0, orientation='vertical')\n",
    "\n",
    "camera_link = traitlets.dlink((camera, 'value'), (image, 'value'), transform=bgr8_to_jpeg)\n",
    "\n",
    "display(widgets.HBox([image, blocked_slider]))"
   ]
  },
  {
   "cell_type": "code",
   "execution_count": null,
   "metadata": {},
   "outputs": [],
   "source": [
    "from jetbot import Robot\n",
    "\n",
    "robot = Robot()"
   ]
  },
  {
   "cell_type": "code",
   "execution_count": null,
   "metadata": {},
   "outputs": [],
   "source": [
    "import gym\n",
    "import gym_env\n",
    "from stable_baselines.common import make_vec_env\n",
    "from stable_baselines.common.policies import MlpPolicy, CnnPolicy\n",
    "from stable_baselines import A2C, PPO2\n",
    "\n",
    "\n",
    "def train_new():\n",
    "    # train from the beginning\n",
    "    env = make_vec_env('Robot-v0', n_envs=1)\n",
    "    # n_steps default = 128\n",
    "    # halving to address resource exhausted error\n",
    "    model = PPO2(CnnPolicy, env, n_steps=64, verbose=1)\n",
    "    model.learn(total_timesteps=1000)\n",
    "    obs = env.reset()\n",
    "    while True:\n",
    "        action, _states = model.predict(obs)\n",
    "        obs, rewards, done, info = env.step(action)\n",
    "        print(action, rewards, info)\n",
    "        if done:\n",
    "            break\n",
    "\n",
    "\n"
   ]
  },
  {
   "cell_type": "code",
   "execution_count": null,
   "metadata": {},
   "outputs": [],
   "source": [
    "def continue_training():\n",
    "    # continue training from previous trained model\n",
    "    env = make_vec_env('Robot-v0', n_envs=1)\n",
    "    model = PPO2.load(\"ppo-robot\")\n",
    "    model.set_env(env)\n",
    "    model.learn(total_timesteps=1000)\n",
    "    model.save(\"ppo-robot\")\n",
    "    obs = env.reset()\n",
    "    while True:\n",
    "        action, _states = model.predict(obs)\n",
    "        obs, rewards, done, info = env.step(action)\n",
    "        print(action, rewards, info)\n",
    "        if done:\n",
    "            break"
   ]
  }
 ],
 "metadata": {
  "kernelspec": {
   "display_name": "py3",
   "language": "python",
   "name": "py3"
  },
  "language_info": {
   "codemirror_mode": {
    "name": "ipython",
    "version": 3
   },
   "file_extension": ".py",
   "mimetype": "text/x-python",
   "name": "python",
   "nbconvert_exporter": "python",
   "pygments_lexer": "ipython3",
   "version": "3.7.4"
  }
 },
 "nbformat": 4,
 "nbformat_minor": 2
}
